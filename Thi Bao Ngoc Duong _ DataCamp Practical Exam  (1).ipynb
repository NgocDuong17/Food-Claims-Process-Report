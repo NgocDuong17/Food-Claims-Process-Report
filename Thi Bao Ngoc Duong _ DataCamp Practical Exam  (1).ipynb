{
 "cells": [
  {
   "cell_type": "markdown",
   "metadata": {
    "tags": []
   },
   "source": [
    "# Data Analyst Associate Practical Exam Submission_DataCamp\n",
    "\n"
   ]
  },
  {
   "cell_type": "code",
   "execution_count": 150,
   "metadata": {},
   "outputs": [],
   "source": [
    "import numpy as np\n",
    "import pandas as pd\n",
    "import matplotlib.pyplot as plt\n",
    "\n",
    "%matplotlib inline "
   ]
  },
  {
   "cell_type": "markdown",
   "metadata": {
    "jp-MarkdownHeadingCollapsed": true,
    "tags": []
   },
   "source": [
    "## Task 1\n",
    "\n"
   ]
  },
  {
   "cell_type": "markdown",
   "metadata": {},
   "source": [
    "First, we need to read the data from the csv file to get a clear picture of what it looks like"
   ]
  },
  {
   "cell_type": "code",
   "execution_count": 128,
   "metadata": {
    "tags": []
   },
   "outputs": [
    {
     "data": {
      "text/html": [
       "<div>\n",
       "<style scoped>\n",
       "    .dataframe tbody tr th:only-of-type {\n",
       "        vertical-align: middle;\n",
       "    }\n",
       "\n",
       "    .dataframe tbody tr th {\n",
       "        vertical-align: top;\n",
       "    }\n",
       "\n",
       "    .dataframe thead th {\n",
       "        text-align: right;\n",
       "    }\n",
       "</style>\n",
       "<table border=\"1\" class=\"dataframe\">\n",
       "  <thead>\n",
       "    <tr style=\"text-align: right;\">\n",
       "      <th></th>\n",
       "      <th>claim_id</th>\n",
       "      <th>time_to_close</th>\n",
       "      <th>claim_amount</th>\n",
       "      <th>amount_paid</th>\n",
       "      <th>location</th>\n",
       "      <th>individuals_on_claim</th>\n",
       "      <th>linked_cases</th>\n",
       "      <th>cause</th>\n",
       "    </tr>\n",
       "  </thead>\n",
       "  <tbody>\n",
       "    <tr>\n",
       "      <th>0</th>\n",
       "      <td>1</td>\n",
       "      <td>317</td>\n",
       "      <td>R$ 74474.55</td>\n",
       "      <td>51231.37</td>\n",
       "      <td>RECIFE</td>\n",
       "      <td>15</td>\n",
       "      <td>False</td>\n",
       "      <td>unknown</td>\n",
       "    </tr>\n",
       "    <tr>\n",
       "      <th>1</th>\n",
       "      <td>2</td>\n",
       "      <td>195</td>\n",
       "      <td>R$ 52137.83</td>\n",
       "      <td>42111.30</td>\n",
       "      <td>FORTALEZA</td>\n",
       "      <td>12</td>\n",
       "      <td>True</td>\n",
       "      <td>unknown</td>\n",
       "    </tr>\n",
       "    <tr>\n",
       "      <th>2</th>\n",
       "      <td>3</td>\n",
       "      <td>183</td>\n",
       "      <td>R$ 24447.2</td>\n",
       "      <td>23986.30</td>\n",
       "      <td>SAO LUIS</td>\n",
       "      <td>10</td>\n",
       "      <td>True</td>\n",
       "      <td>meat</td>\n",
       "    </tr>\n",
       "    <tr>\n",
       "      <th>3</th>\n",
       "      <td>4</td>\n",
       "      <td>186</td>\n",
       "      <td>R$ 29006.28</td>\n",
       "      <td>27942.72</td>\n",
       "      <td>FORTALEZA</td>\n",
       "      <td>11</td>\n",
       "      <td>False</td>\n",
       "      <td>meat</td>\n",
       "    </tr>\n",
       "    <tr>\n",
       "      <th>4</th>\n",
       "      <td>5</td>\n",
       "      <td>138</td>\n",
       "      <td>R$ 19520.6</td>\n",
       "      <td>16251.06</td>\n",
       "      <td>RECIFE</td>\n",
       "      <td>11</td>\n",
       "      <td>False</td>\n",
       "      <td>vegetable</td>\n",
       "    </tr>\n",
       "    <tr>\n",
       "      <th>...</th>\n",
       "      <td>...</td>\n",
       "      <td>...</td>\n",
       "      <td>...</td>\n",
       "      <td>...</td>\n",
       "      <td>...</td>\n",
       "      <td>...</td>\n",
       "      <td>...</td>\n",
       "      <td>...</td>\n",
       "    </tr>\n",
       "    <tr>\n",
       "      <th>1995</th>\n",
       "      <td>1996</td>\n",
       "      <td>176</td>\n",
       "      <td>R$ 28982.3</td>\n",
       "      <td>24265.02</td>\n",
       "      <td>RECIFE</td>\n",
       "      <td>10</td>\n",
       "      <td>False</td>\n",
       "      <td>meat</td>\n",
       "    </tr>\n",
       "    <tr>\n",
       "      <th>1996</th>\n",
       "      <td>1997</td>\n",
       "      <td>166</td>\n",
       "      <td>R$ 5188.44</td>\n",
       "      <td>4772.77</td>\n",
       "      <td>FORTALEZA</td>\n",
       "      <td>2</td>\n",
       "      <td>True</td>\n",
       "      <td>meat</td>\n",
       "    </tr>\n",
       "    <tr>\n",
       "      <th>1997</th>\n",
       "      <td>1998</td>\n",
       "      <td>179</td>\n",
       "      <td>R$ 11975.85</td>\n",
       "      <td>10087.81</td>\n",
       "      <td>RECIFE</td>\n",
       "      <td>4</td>\n",
       "      <td>True</td>\n",
       "      <td>meat</td>\n",
       "    </tr>\n",
       "    <tr>\n",
       "      <th>1998</th>\n",
       "      <td>1999</td>\n",
       "      <td>162</td>\n",
       "      <td>R$ 23516.28</td>\n",
       "      <td>23310.24</td>\n",
       "      <td>RECIFE</td>\n",
       "      <td>9</td>\n",
       "      <td>False</td>\n",
       "      <td>meat</td>\n",
       "    </tr>\n",
       "    <tr>\n",
       "      <th>1999</th>\n",
       "      <td>2000</td>\n",
       "      <td>150</td>\n",
       "      <td>R$ 8051.4</td>\n",
       "      <td>6417.92</td>\n",
       "      <td>RECIFE</td>\n",
       "      <td>4</td>\n",
       "      <td>False</td>\n",
       "      <td>vegetable</td>\n",
       "    </tr>\n",
       "  </tbody>\n",
       "</table>\n",
       "<p>2000 rows × 8 columns</p>\n",
       "</div>"
      ],
      "text/plain": [
       "      claim_id  time_to_close claim_amount  amount_paid   location  \\\n",
       "0            1            317  R$ 74474.55     51231.37     RECIFE   \n",
       "1            2            195  R$ 52137.83     42111.30  FORTALEZA   \n",
       "2            3            183   R$ 24447.2     23986.30   SAO LUIS   \n",
       "3            4            186  R$ 29006.28     27942.72  FORTALEZA   \n",
       "4            5            138   R$ 19520.6     16251.06     RECIFE   \n",
       "...        ...            ...          ...          ...        ...   \n",
       "1995      1996            176   R$ 28982.3     24265.02     RECIFE   \n",
       "1996      1997            166   R$ 5188.44      4772.77  FORTALEZA   \n",
       "1997      1998            179  R$ 11975.85     10087.81     RECIFE   \n",
       "1998      1999            162  R$ 23516.28     23310.24     RECIFE   \n",
       "1999      2000            150    R$ 8051.4      6417.92     RECIFE   \n",
       "\n",
       "      individuals_on_claim linked_cases      cause  \n",
       "0                       15        False    unknown  \n",
       "1                       12         True    unknown  \n",
       "2                       10         True       meat  \n",
       "3                       11        False       meat  \n",
       "4                       11        False  vegetable  \n",
       "...                    ...          ...        ...  \n",
       "1995                    10        False       meat  \n",
       "1996                     2         True       meat  \n",
       "1997                     4         True       meat  \n",
       "1998                     9        False       meat  \n",
       "1999                     4        False  vegetable  \n",
       "\n",
       "[2000 rows x 8 columns]"
      ]
     },
     "execution_count": 128,
     "metadata": {},
     "output_type": "execute_result"
    }
   ],
   "source": [
    "df = pd.read_csv(r'C:\\Users\\BAO NGOC\\Downloads\\workspace\\food_claims_2212.csv')\n",
    "df"
   ]
  },
  {
   "cell_type": "markdown",
   "metadata": {},
   "source": [
    "Check the data type for each columns and make adjustments if needed. Here, the data needs to be as followed \n",
    "   - claim_id : Nominal. The unique identifier of the claim. No missing values\n",
    "   - time_to_close : Discrete. Any positive value. Replace missing values with the overall median time to close\n",
    "   - claim_amount : Continuous. Rounded to 2 decimal places. Replace missing values with the overall median claim amount\n",
    "   - amount_paid : Continuous. Rounded to 2 decimal places. Replace missing values with the overall median amount paid\n",
    "   - location : Nominal. One of “RECIFE”, “SAO LUIS”, “FORTALEZA”, or “NATAL”. Remove missing values.\n",
    "   - individuals_on_claim : Discrete. Minimum 1 person. Replace missing value with 0\n",
    "   - linked_cases : Nominal. Either TRUE or FALSE. Replace missing values with FALSE\n",
    "   - cause : Nominal. One of “vegetable”, “meat” or “unknown”. Replace missing values with ‘unknown'"
   ]
  },
  {
   "cell_type": "code",
   "execution_count": 129,
   "metadata": {},
   "outputs": [
    {
     "data": {
      "text/plain": [
       "claim_id                  int64\n",
       "time_to_close             int64\n",
       "claim_amount             object\n",
       "amount_paid             float64\n",
       "location                 object\n",
       "individuals_on_claim      int64\n",
       "linked_cases             object\n",
       "cause                    object\n",
       "dtype: object"
      ]
     },
     "execution_count": 129,
     "metadata": {},
     "output_type": "execute_result"
    }
   ],
   "source": [
    "df.dtypes"
   ]
  },
  {
   "cell_type": "markdown",
   "metadata": {},
   "source": [
    "We need to change the claim_amount to float64 instead of object"
   ]
  },
  {
   "cell_type": "code",
   "execution_count": 130,
   "metadata": {},
   "outputs": [
    {
     "data": {
      "text/plain": [
       "0       74474.55\n",
       "1       52137.83\n",
       "2       24447.20\n",
       "3       29006.28\n",
       "4       19520.60\n",
       "          ...   \n",
       "1995    28982.30\n",
       "1996     5188.44\n",
       "1997    11975.85\n",
       "1998    23516.28\n",
       "1999     8051.40\n",
       "Name: claim_amount, Length: 2000, dtype: float64"
      ]
     },
     "execution_count": 130,
     "metadata": {},
     "output_type": "execute_result"
    }
   ],
   "source": [
    "#claim_amount should be float64\n",
    "\n",
    "df['claim_amount'] = df['claim_amount'].str.replace(\"[R$]\", \"\").astype(float)\n",
    "df['claim_amount']"
   ]
  },
  {
   "cell_type": "markdown",
   "metadata": {},
   "source": [
    "Check null values for each columns before proceeding to other steps"
   ]
  },
  {
   "cell_type": "code",
   "execution_count": 131,
   "metadata": {},
   "outputs": [
    {
     "data": {
      "text/plain": [
       "claim_id                 0\n",
       "time_to_close            0\n",
       "claim_amount             0\n",
       "amount_paid             36\n",
       "location                 0\n",
       "individuals_on_claim     0\n",
       "linked_cases            26\n",
       "cause                    0\n",
       "dtype: int64"
      ]
     },
     "execution_count": 131,
     "metadata": {},
     "output_type": "execute_result"
    }
   ],
   "source": [
    "df.isnull().sum()"
   ]
  },
  {
   "cell_type": "markdown",
   "metadata": {},
   "source": [
    "None of the columns should have null values.So we will need to replace all the existing null values with suitable statistics later. Now check if there is any negative value in time_to_close column"
   ]
  },
  {
   "cell_type": "code",
   "execution_count": 132,
   "metadata": {},
   "outputs": [
    {
     "data": {
      "text/plain": [
       "False"
      ]
     },
     "execution_count": 132,
     "metadata": {},
     "output_type": "execute_result"
    }
   ],
   "source": [
    "df['time_to_close'].any() < 0"
   ]
  },
  {
   "cell_type": "markdown",
   "metadata": {},
   "source": [
    "Jump to the next column, which is amount_paid and fill it null values with overall median"
   ]
  },
  {
   "cell_type": "code",
   "execution_count": 133,
   "metadata": {},
   "outputs": [],
   "source": [
    "df['amount_paid'].fillna(df['amount_paid'].median(), inplace = True)"
   ]
  },
  {
   "cell_type": "markdown",
   "metadata": {},
   "source": [
    "Check unique value in location data to decide whether or not we will need to make some change. Luckily, the data is clean "
   ]
  },
  {
   "cell_type": "code",
   "execution_count": 134,
   "metadata": {},
   "outputs": [
    {
     "name": "stdout",
     "output_type": "stream",
     "text": [
      "['RECIFE' 'FORTALEZA' 'SAO LUIS' 'NATAL']\n"
     ]
    }
   ],
   "source": [
    "#location : check unique data\n",
    "print(df['location'].unique())"
   ]
  },
  {
   "cell_type": "markdown",
   "metadata": {},
   "source": [
    "individuals_on_claim get the right data as well, since the min value is 1, which is valid"
   ]
  },
  {
   "cell_type": "code",
   "execution_count": 135,
   "metadata": {},
   "outputs": [
    {
     "data": {
      "text/plain": [
       "1"
      ]
     },
     "execution_count": 135,
     "metadata": {},
     "output_type": "execute_result"
    }
   ],
   "source": [
    "#individuals_on_claim :\n",
    "df['individuals_on_claim'].min()"
   ]
  },
  {
   "cell_type": "markdown",
   "metadata": {},
   "source": [
    "Unique values for linked_cases are incorrect, let's fill the NaN data with the correct form (False) and check once again when finish to make sure we got the right one"
   ]
  },
  {
   "cell_type": "code",
   "execution_count": 136,
   "metadata": {},
   "outputs": [
    {
     "data": {
      "text/plain": [
       "array([False, True, nan], dtype=object)"
      ]
     },
     "execution_count": 136,
     "metadata": {},
     "output_type": "execute_result"
    }
   ],
   "source": [
    "df['linked_cases'].unique()"
   ]
  },
  {
   "cell_type": "code",
   "execution_count": 137,
   "metadata": {},
   "outputs": [],
   "source": [
    "#linked_cases : replace null values with FALSE\n",
    "df['linked_cases'].fillna(False, inplace = True)"
   ]
  },
  {
   "cell_type": "code",
   "execution_count": 138,
   "metadata": {},
   "outputs": [
    {
     "data": {
      "text/plain": [
       "array([False,  True])"
      ]
     },
     "execution_count": 138,
     "metadata": {},
     "output_type": "execute_result"
    }
   ],
   "source": [
    "df['linked_cases'].unique()"
   ]
  },
  {
   "cell_type": "markdown",
   "metadata": {},
   "source": [
    "There might be some typos when typing data manually into the table. Like the column below, we have 2 typos\n",
    "' Meat' and 'VEGETABLE' and this will return the false result if we ignore the cleaning process for it. However, we\n",
    "can fix this mess by replacing the wrong one with the correct form we desire"
   ]
  },
  {
   "cell_type": "code",
   "execution_count": 139,
   "metadata": {},
   "outputs": [
    {
     "name": "stdout",
     "output_type": "stream",
     "text": [
      "['unknown' 'meat' 'vegetable' ' Meat' 'VEGETABLES']\n"
     ]
    },
    {
     "data": {
      "text/plain": [
       "array(['unknown', 'meat', 'vegetable'], dtype=object)"
      ]
     },
     "execution_count": 139,
     "metadata": {},
     "output_type": "execute_result"
    }
   ],
   "source": [
    "#cause : check unique data\n",
    "print(df['cause'].unique())\n",
    "df['cause'] = df['cause'].replace([' Meat', 'VEGETABLES'], ['meat', 'vegetable'])\n",
    "df['cause'].unique()"
   ]
  },
  {
   "cell_type": "code",
   "execution_count": 140,
   "metadata": {},
   "outputs": [
    {
     "data": {
      "text/plain": [
       "claim_id                0\n",
       "time_to_close           0\n",
       "claim_amount            0\n",
       "amount_paid             0\n",
       "location                0\n",
       "individuals_on_claim    0\n",
       "linked_cases            0\n",
       "cause                   0\n",
       "dtype: int64"
      ]
     },
     "execution_count": 140,
     "metadata": {},
     "output_type": "execute_result"
    }
   ],
   "source": [
    "#Check the last one \n",
    "df.isnull().sum()"
   ]
  },
  {
   "cell_type": "markdown",
   "metadata": {},
   "source": [
    "- a)\n",
    "   - claim_id :             MATCH\n",
    "   - time_to_close :        MATCH\n",
    "   - claim_amount :         NOT MATCH since it is object type instead of float64\n",
    "   - amount_paid :          NOT MATCH since it has missing values\n",
    "   - location :             MATCH\n",
    "   - individuals_on_claim : MATCH\n",
    "   - linked_cases :         NOT MATCH since it has missing values\n",
    "   - cause :                NOT MATCH since it has typo ' Meat' and 'VEGETABLES'\n",
    "   \n",
    "- b)\n",
    "   - claim_id                 0\n",
    "   - time_to_close            0\n",
    "   - claim_amount             0\n",
    "   - amount_paid             36\n",
    "   - location                 0\n",
    "   - individuals_on_claim     0\n",
    "   - linked_cases            26\n",
    "   - cause                    0\n",
    "\n",
    "- c)\n",
    "   - claim_amount            remove unexpected symbols and changed the column type to float \n",
    "   - amount_paid             filled missing values with overall median of the column\n",
    "   - linked_cases            replaced missing values with False\n",
    "   - cause                   check unique data and replace the typos with the correct written form\n"
   ]
  },
  {
   "cell_type": "markdown",
   "metadata": {},
   "source": [
    "## Task 2"
   ]
  },
  {
   "cell_type": "code",
   "execution_count": 179,
   "metadata": {},
   "outputs": [
    {
     "data": {
      "image/png": "[encoded data removed]",
      "text/plain": [
       "<Figure size 576x432 with 1 Axes>"
      ]
     },
     "metadata": {
      "needs_background": "light"
     },
     "output_type": "display_data"
    }
   ],
   "source": [
    "fig = plt.figure(figsize = (8,6))\n",
    "df1= df.groupby(['location'])['claim_amount'].sum()\n",
    "\n",
    "plt.bar([0,1,2,3],df1, 0.5)\n",
    "plt.xticks([0,1,2,3], df1.index)\n",
    "plt.title('Claim Amount for each Location')\n",
    "plt.show()"
   ]
  },
  {
   "cell_type": "markdown",
   "metadata": {},
   "source": [
    "- a) RECIFE has the most observations\n",
    "- b) The observations are not balanced across categories because RECIFE accounts for nearly double the other locations"
   ]
  },
  {
   "cell_type": "markdown",
   "metadata": {},
   "source": [
    "## Task 3"
   ]
  },
  {
   "cell_type": "code",
   "execution_count": 193,
   "metadata": {},
   "outputs": [
    {
     "data": {
      "image/png": "[encoded data removed]",
      "text/plain": [
       "<Figure size 936x576 with 1 Axes>"
      ]
     },
     "metadata": {
      "needs_background": "light"
     },
     "output_type": "display_data"
    }
   ],
   "source": [
    "fig = plt.figure(figsize = (13,8))\n",
    "plt.hist(df['time_to_close'], bins = 300)\n",
    "plt.show()"
   ]
  },
  {
   "cell_type": "markdown",
   "metadata": {},
   "source": [
    "- The claim usually takes 150-200 days before being closed\n",
    "- There is a minor of claims taking around 400-500 days before being closed\n",
    "- Around 190 days before being closed has the highest number of claims, which is around 80"
   ]
  },
  {
   "cell_type": "markdown",
   "metadata": {},
   "source": [
    "## Task 4"
   ]
  },
  {
   "cell_type": "code",
   "execution_count": 205,
   "metadata": {},
   "outputs": [
    {
     "data": {
      "image/png": "[encoded data removed]",
      "text/plain": [
       "<Figure size 720x360 with 1 Axes>"
      ]
     },
     "metadata": {
      "needs_background": "light"
     },
     "output_type": "display_data"
    }
   ],
   "source": [
    "plt.figure(figsize=(10,5))\n",
    "plt.hist(df[df['location']=='RECIFE']['time_to_close'], bins = 60, alpha = 0.5, label='RECIPE')\n",
    "plt.hist(df[df['location']=='FORTALEZA']['time_to_close'], bins = 60,alpha=0.5, label='FORTALEZA')\n",
    "plt.hist(df[df['location']=='SAO LUIS']['time_to_close'], bins = 60,alpha=0.5, label='SAO LUIS')\n",
    "plt.hist(df[df['location']=='NATAL']['time_to_close'], bins = 60,alpha=0.5, label='NATAL')\n",
    "plt.legend()\n",
    "plt.show()"
   ]
  },
  {
   "cell_type": "markdown",
   "metadata": {},
   "source": [
    "There is no relationship between location and time to close because there is inbalanced data for all location "
   ]
  },
  {
   "cell_type": "code",
   "execution_count": 211,
   "metadata": {},
   "outputs": [
    {
     "data": {
      "text/plain": [
       "0.00730648877907234"
      ]
     },
     "execution_count": 211,
     "metadata": {},
     "output_type": "execute_result"
    }
   ],
   "source": [
    "#Check once again using correlation\n",
    "df['loc'] = df['location'].replace(['RECIFE', 'SAO LUIS', 'NATAL','FORTALEZA'],[1,2,3,4])\n",
    "df['loc'].corr(df['time_to_close'])"
   ]
  },
  {
   "cell_type": "markdown",
   "metadata": {},
   "source": [
    "There is no relationship"
   ]
  },
  {
   "cell_type": "markdown",
   "metadata": {
    "tags": []
   },
   "source": []
  },
  {
   "cell_type": "code",
   "execution_count": null,
   "metadata": {},
   "outputs": [],
   "source": []
  }
 ],
 "metadata": {
  "colab": {
   "name": "Welcome to DataCamp Workspaces.ipynb",
   "provenance": []
  },
  "kernelspec": {
   "display_name": "Python 3",
   "language": "python",
   "name": "python3"
  },
  "language_info": {
   "codemirror_mode": {
    "name": "ipython",
    "version": 3
   },
   "file_extension": ".py",
   "mimetype": "text/x-python",
   "name": "python",
   "nbconvert_exporter": "python",
   "pygments_lexer": "ipython3",
   "version": "3.8.3"
  }
 },
 "nbformat": 4,
 "nbformat_minor": 5
}
